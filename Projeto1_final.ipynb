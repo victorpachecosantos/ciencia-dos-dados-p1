{
 "cells": [
  {
   "cell_type": "markdown",
   "metadata": {},
   "source": [
    "# Projeto 1 - Ciência dos Dados"
   ]
  },
  {
   "cell_type": "markdown",
   "metadata": {},
   "source": [
    "Nome: Rafael Melhado Araujo Lima\n",
    "\n",
    "Nome: Victor Pacheco Santos"
   ]
  },
  {
   "cell_type": "markdown",
   "metadata": {},
   "source": [
    "Atenção: Serão permitidos grupos de três pessoas, mas com uma rubrica mais exigente. Grupos deste tamanho precisarão fazer um questionário de avaliação de trabalho em equipe"
   ]
  },
  {
   "cell_type": "markdown",
   "metadata": {},
   "source": [
    "___\n",
    "Carregando algumas bibliotecas:"
   ]
  },
  {
   "cell_type": "code",
   "execution_count": 174,
   "metadata": {},
   "outputs": [],
   "source": [
    "%matplotlib inline\n",
    "import pandas as pd\n",
    "import matplotlib.pyplot as plt\n",
    "import numpy as np\n",
    "import os\n",
    "\n",
    "import re \n",
    "\n",
    "\n",
    "def cleanup(text):\n",
    "    \"\"\"\n",
    "        Função de limpeza muito simples que troca alguns sinais básicos por espaços\n",
    "    \"\"\"\n",
    "    #import string\n",
    "    punctuation = '[!-.:?;]' # Note que os sinais [] são delimitadores de um conjunto.\n",
    "    #ACHAR UM JEITO DE RETIRAR OS @S E OS NOMES QUE VEM SEGUIDOS DELES\n",
    "    pattern = re.compile(punctuation)\n",
    "    text_subbed = re.sub(pattern, '', text)\n",
    "    return text_subbed\n"
   ]
  },
  {
   "cell_type": "code",
   "execution_count": null,
   "metadata": {},
   "outputs": [],
   "source": []
  },
  {
   "cell_type": "code",
   "execution_count": 175,
   "metadata": {
    "scrolled": false
   },
   "outputs": [
    {
     "name": "stdout",
     "output_type": "stream",
     "text": [
      "Esperamos trabalhar no diretório\n",
      "/Users/mac/Desktop/ciencia-dos-dados-p1-main 6\n"
     ]
    }
   ],
   "source": [
    "print('Esperamos trabalhar no diretório')\n",
    "print(os.getcwd())"
   ]
  },
  {
   "cell_type": "markdown",
   "metadata": {},
   "source": [
    "Carregando a base de dados com os tweets classificados como relevantes e não relevantes:"
   ]
  },
  {
   "cell_type": "code",
   "execution_count": 176,
   "metadata": {},
   "outputs": [],
   "source": [
    "filename = 'iFood.xlsx'"
   ]
  },
  {
   "cell_type": "code",
   "execution_count": 177,
   "metadata": {},
   "outputs": [
    {
     "data": {
      "text/html": [
       "<div>\n",
       "<style scoped>\n",
       "    .dataframe tbody tr th:only-of-type {\n",
       "        vertical-align: middle;\n",
       "    }\n",
       "\n",
       "    .dataframe tbody tr th {\n",
       "        vertical-align: top;\n",
       "    }\n",
       "\n",
       "    .dataframe thead th {\n",
       "        text-align: right;\n",
       "    }\n",
       "</style>\n",
       "<table border=\"1\" class=\"dataframe\">\n",
       "  <thead>\n",
       "    <tr style=\"text-align: right;\">\n",
       "      <th></th>\n",
       "      <th>Treinamento</th>\n",
       "      <th>Classificação</th>\n",
       "    </tr>\n",
       "  </thead>\n",
       "  <tbody>\n",
       "    <tr>\n",
       "      <th>495</th>\n",
       "      <td>@rolealeatorio oi, te ajudo com isso lá na dm,...</td>\n",
       "      <td>2</td>\n",
       "    </tr>\n",
       "    <tr>\n",
       "      <th>496</th>\n",
       "      <td>@yvnggweed sai fora \\nquanto que ta custando t...</td>\n",
       "      <td>2</td>\n",
       "    </tr>\n",
       "    <tr>\n",
       "      <th>497</th>\n",
       "      <td>ótima hora pra não funcionar ifood</td>\n",
       "      <td>0</td>\n",
       "    </tr>\n",
       "    <tr>\n",
       "      <th>498</th>\n",
       "      <td>@madurezende12 @funkeirosfodas @ifood bem por ...</td>\n",
       "      <td>0</td>\n",
       "    </tr>\n",
       "    <tr>\n",
       "      <th>499</th>\n",
       "      <td>pedi logo um ifood pro almoço, sem coragem pra...</td>\n",
       "      <td>1</td>\n",
       "    </tr>\n",
       "  </tbody>\n",
       "</table>\n",
       "</div>"
      ],
      "text/plain": [
       "                                           Treinamento  Classificação\n",
       "495  @rolealeatorio oi, te ajudo com isso lá na dm,...              2\n",
       "496  @yvnggweed sai fora \\nquanto que ta custando t...              2\n",
       "497                 ótima hora pra não funcionar ifood              0\n",
       "498  @madurezende12 @funkeirosfodas @ifood bem por ...              0\n",
       "499  pedi logo um ifood pro almoço, sem coragem pra...              1"
      ]
     },
     "execution_count": 177,
     "metadata": {},
     "output_type": "execute_result"
    }
   ],
   "source": [
    "train = pd.read_excel(filename)\n",
    "train.tail(5)"
   ]
  },
  {
   "cell_type": "code",
   "execution_count": 178,
   "metadata": {},
   "outputs": [
    {
     "data": {
      "text/html": [
       "<div>\n",
       "<style scoped>\n",
       "    .dataframe tbody tr th:only-of-type {\n",
       "        vertical-align: middle;\n",
       "    }\n",
       "\n",
       "    .dataframe tbody tr th {\n",
       "        vertical-align: top;\n",
       "    }\n",
       "\n",
       "    .dataframe thead th {\n",
       "        text-align: right;\n",
       "    }\n",
       "</style>\n",
       "<table border=\"1\" class=\"dataframe\">\n",
       "  <thead>\n",
       "    <tr style=\"text-align: right;\">\n",
       "      <th></th>\n",
       "      <th>Teste</th>\n",
       "    </tr>\n",
       "  </thead>\n",
       "  <tbody>\n",
       "    <tr>\n",
       "      <th>0</th>\n",
       "      <td>@matheusdevdd @rclorandi @rolealeatorio @ifood...</td>\n",
       "    </tr>\n",
       "    <tr>\n",
       "      <th>1</th>\n",
       "      <td>@taldoalvesss eu fico parecendo um entregador ...</td>\n",
       "    </tr>\n",
       "    <tr>\n",
       "      <th>2</th>\n",
       "      <td>@gdallaru @ifood acordou engraçadinho e com a ...</td>\n",
       "    </tr>\n",
       "    <tr>\n",
       "      <th>3</th>\n",
       "      <td>pedido mais rápido q já fiz no ifood, 20 min f...</td>\n",
       "    </tr>\n",
       "    <tr>\n",
       "      <th>4</th>\n",
       "      <td>ele não pega ninguém, só leva p dar rolê, ifoo...</td>\n",
       "    </tr>\n",
       "  </tbody>\n",
       "</table>\n",
       "</div>"
      ],
      "text/plain": [
       "                                               Teste\n",
       "0  @matheusdevdd @rclorandi @rolealeatorio @ifood...\n",
       "1  @taldoalvesss eu fico parecendo um entregador ...\n",
       "2  @gdallaru @ifood acordou engraçadinho e com a ...\n",
       "3  pedido mais rápido q já fiz no ifood, 20 min f...\n",
       "4  ele não pega ninguém, só leva p dar rolê, ifoo..."
      ]
     },
     "execution_count": 178,
     "metadata": {},
     "output_type": "execute_result"
    }
   ],
   "source": [
    "test = pd.read_excel(filename, sheet_name = 'Teste')\n",
    "test.head()"
   ]
  },
  {
   "cell_type": "markdown",
   "metadata": {},
   "source": [
    "___\n",
    "## Classificador automático de sentimento\n"
   ]
  },
  {
   "cell_type": "markdown",
   "metadata": {},
   "source": [
    "Faça aqui uma descrição do seu produto e o que considerou como relevante ou não relevante na classificação dos tweets.\n",
    "\n",
    "O produto escolhido foi o serviço do iFood. Para a classificação dos tweets, consideramos relevantes aqueles que forneciam opiniões de clientes, com claras críticas ou elogios. Além disso, classificamos os tweets relevantes como sendo ou positivos ou negativos, para que foçe mais fácil a separação de críticas e elogios."
   ]
  },
  {
   "cell_type": "markdown",
   "metadata": {},
   "source": [
    "___\n",
    "### Montando um Classificador Naive-Bayes\n",
    "\n",
    "Considerando apenas as mensagens da planilha Treinamento, ensine  seu classificador."
   ]
  },
  {
   "cell_type": "code",
   "execution_count": 179,
   "metadata": {},
   "outputs": [],
   "source": [
    "Limpo = []\n",
    "for i in range (len(train.Treinamento)):\n",
    "    Limpo.append(cleanup(train.Treinamento[i].lower()))\n",
    "train[\"Limpo\"] = pd.Series(Limpo)\n",
    "\n",
    "tudo = \"\"\n",
    "for tweet in train.Limpo:\n",
    "    tudo = tudo + tweet\n",
    "tudo_separado = tudo.split()"
   ]
  },
  {
   "cell_type": "code",
   "execution_count": 180,
   "metadata": {},
   "outputs": [],
   "source": [
    "positiva = train.loc[(train.Classificação == 1), \"Limpo\"]\n",
    "negativa = train.loc[(train.Classificação == 2), \"Limpo\"]\n",
    "irrelevante = train.loc[(train.Classificação == 0), \"Limpo\"]\n",
    "\n",
    "positiva_texto = \"\"\n",
    "for tweet in positiva:\n",
    "    positiva_texto = positiva_texto + tweet\n",
    "\n",
    "negativa_texto = \"\"\n",
    "for tweet in negativa:\n",
    "    negativa_texto = negativa_texto + tweet\n",
    "\n",
    "    \n",
    "irrelevante_texto = \"\"\n",
    "for tweet in irrelevante:\n",
    "    irrelevante_texto = irrelevante_texto + tweet\n",
    "    \n",
    "\n",
    "\n",
    "positiva_separado = positiva_texto.split()\n",
    "negativa_separado = negativa_texto.split()\n",
    "irrelevante_separado = irrelevante_texto.split()\n",
    "\n",
    "\n",
    "tudo_junto = (positiva_separado+negativa_separado+irrelevante_separado)\n",
    "prob_p = len(positiva_separado)/len(tudo_separado)\n",
    "prob_n = len(negativa_separado)/len(tudo_separado)\n",
    "prob_i = len(irrelevante_separado)/len(tudo_separado)\n"
   ]
  },
  {
   "cell_type": "markdown",
   "metadata": {},
   "source": [
    "A celula acima separa os dados do DataFrame baseado na classificação deles (positivo, negativo ou irrelevante) e começa o processo de mudar a formatação desses dados para facilitar o processamento desses dados\n"
   ]
  },
  {
   "cell_type": "code",
   "execution_count": 195,
   "metadata": {},
   "outputs": [],
   "source": [
    "serie_positiva = pd.Series(positiva_separado)\n",
    "tabela_positiva = serie_positiva.value_counts()\n",
    "tabela_positiva_relativa = serie_positiva.value_counts(True)\n",
    "\n",
    "serie_irrelevante = pd.Series(irrelevante_separado)\n",
    "tabela_irrelevante = serie_irrelevante.value_counts()\n",
    "tabela_irrelevante_relativa = serie_irrelevante.value_counts(True)\n",
    "\n",
    "serie_negativa = pd.Series(negativa_separado)\n",
    "tabela_negativa = serie_negativa.value_counts()\n",
    "tabela_negativa_relativa = serie_negativa.value_counts(True)\n",
    "\n",
    "serie_junto = pd.Series(tudo_junto)\n",
    "tabela_junto = serie_junto.value_counts()"
   ]
  },
  {
   "cell_type": "markdown",
   "metadata": {},
   "source": [
    "Na celula acima, começamos o processo de processamento de dados, criando listas de frequências absolutas e relativas para cada possível classificação\n"
   ]
  },
  {
   "cell_type": "code",
   "execution_count": 192,
   "metadata": {},
   "outputs": [],
   "source": [
    "def classifica_tweets(tweet):\n",
    "    ProbP = prob_p\n",
    "    ProbN = prob_n\n",
    "    ProbI = prob_i\n",
    "    probTweetDadoP = 1\n",
    "    probTweetDadoN = 1\n",
    "    probTweetDadoI = 1\n",
    "    tweet_separado = tweet.split()\n",
    "    for i in range(len(tweet_separado)):\n",
    "        if tweet_separado[i] in tabela_positiva_relativa:\n",
    "            probTweetDadoP = probTweetDadoP*(tabela_positiva[tweet_separado[i]]+1)/(len(serie_positiva) + len(tabela_junto))\n",
    "        else:\n",
    "            probTweetDadoP = probTweetDadoP*(0+1)/(len(serie_positiva) + len(tabela_junto))\n",
    "        if tweet_separado[i] in tabela_negativa_relativa:\n",
    "            probTweetDadoN = probTweetDadoN*(tabela_negativa[tweet_separado[i]]+1)/(len(serie_negativa) + len(tabela_junto))\n",
    "        else:\n",
    "            probTweetDadoN = probTweetDadoN*(0+1)/(len(serie_negativa) + len(tabela_junto))\n",
    "        if tweet_separado[i] in tabela_irrelevante_relativa:\n",
    "            probTweetDadoI = probTweetDadoI*(tabela_irrelevante[tweet_separado[i]]+1)/(len(serie_irrelevante) + len(tabela_junto))\n",
    "        else:\n",
    "            probTweetDadoI = probTweetDadoI*(0+1)/(len(serie_irrelevante) + len(tabela_junto))\n",
    "    ProbPDadoTweet = probTweetDadoP*ProbP\n",
    "    ProbNDadoTweet = probTweetDadoN*ProbN\n",
    "    ProbIDadoTweet = probTweetDadoI*ProbI\n",
    "    if ProbPDadoTweet > ProbIDadoTweet and ProbPDadoTweet > ProbNDadoTweet:\n",
    "        return(\"O tweet '{0}' é positivo\".format(tweet))\n",
    "    elif ProbNDadoTweet > ProbIDadoTweet and ProbNDadoTweet > ProbPDadoTweet:\n",
    "        return(\"O tweet '{0}' é negativo\".format(tweet))\n",
    "    else:\n",
    "        return(\"O tweet '{0}' é irrelevante\".format(tweet))"
   ]
  },
  {
   "cell_type": "markdown",
   "metadata": {},
   "source": [
    "Na célula acima, foi criada uma função, que recebe um tweet, e à partir do sistema de classificação de Nayve-Bayes, tomando os dados previamente processados como base, o classifica como positivo, negativo ou irrelevante"
   ]
  },
  {
   "cell_type": "markdown",
   "metadata": {},
   "source": [
    "___\n",
    "### Verificando a performance do Classificador\n",
    "\n",
    "Agora você deve testar o seu classificador com a base de Testes."
   ]
  },
  {
   "cell_type": "code",
   "execution_count": 194,
   "metadata": {},
   "outputs": [],
   "source": [
    "teste_limpo = []\n",
    "\n",
    "for i in range (len(test.Teste)):\n",
    "    teste_limpo.append(cleanup(test.Teste[i].lower()))\n",
    "    \n",
    "classificados = []\n",
    "for tweet in teste_limpo:\n",
    "    classificados.append(classifica_tweets(tweet))\n",
    "    "
   ]
  },
  {
   "cell_type": "markdown",
   "metadata": {},
   "source": [
    "Quanto à performance do classificador, podemos definir que, dos 200 tweets avaliados:\n",
    "\n",
    "68 foram corretamente marcados como irrelevantes,\n",
    "\n",
    "32 foram incorretamente marcados como irrelevantes,\n",
    "\n",
    "33 foram corretamente marcados como negativos,\n",
    "\n",
    "23 foram incorretamente marcados como negativos,\n",
    "\n",
    "18 foram corretamente marcados como positivos,\n",
    "\n",
    "20 foram incorretamente marcados como positivos.\n",
    "\n",
    "Com isso, podemos concluir que a acuracia do classificador é de 56,5%."
   ]
  },
  {
   "cell_type": "markdown",
   "metadata": {},
   "source": [
    "___\n",
    "### Concluindo"
   ]
  },
  {
   "cell_type": "markdown",
   "metadata": {},
   "source": [
    "Em sumo, foi podemos concluir que o classificador funciona de maneira adequada. Porém, ele não é completamente\n",
    "preciso, tendo uma acuracia de aproximadamente 64%. Além disso, quando analisamos os tweets erroneamente classificados como positivos, vemos a menor precisão. Um dos possíveis motivos para tal discrepância, \n",
    "além do tamanho da amostra inicial, é que o classificador não consegue distinguir diferentes contextos,\n",
    "logo um tweet extremamente sarcástico, pode ser classificado como positivo, quando na verdade é negativo, e \n",
    "vice-e-versa, o que exarceba a falta de precisão do classificador. \n",
    "\n",
    "Outro possível problema pode ter ocorrido na alimentação de dados ao classificador, sendo que a precisão desse pode  ter sido responsável por problemas no classificador.\n",
    "\n",
    "Alimentar minha base de Treinamento automaticamente usando o próprio classificador, aplicado a novos tweets, provavelmente causará grandes problemas, pois o fato de sua acuracia ser relativamente baixa fará com que sejam alimentados muitos dados incorretos, o que propagará vícios do sistema, fazendo com que o classificador se torne cada vez mais impreciso.\n",
    "\n",
    "Possiveis melhorias para o classificador incluem um aumento na base de dados à ele alimentados e melhores limpezas das bases de dados fornecidas. Além disso, outra possível melhoria para o classificador poderia ser o uso de outro método de classificação, como o metodo de classificação, como o método de máquina de suporte de vetores (https://www.sciencedirect.com/science/article/abs/pii/S0950705108000968)"
   ]
  },
  {
   "cell_type": "code",
   "execution_count": null,
   "metadata": {},
   "outputs": [],
   "source": []
  },
  {
   "cell_type": "code",
   "execution_count": null,
   "metadata": {},
   "outputs": [],
   "source": []
  },
  {
   "cell_type": "markdown",
   "metadata": {},
   "source": [
    "___\n",
    "### Qualidade do Classificador a partir de novas separações dos tweets entre Treinamento e Teste\n",
    "\n",
    "Caso for fazer esse item do Projeto"
   ]
  },
  {
   "cell_type": "code",
   "execution_count": null,
   "metadata": {},
   "outputs": [],
   "source": []
  },
  {
   "cell_type": "code",
   "execution_count": null,
   "metadata": {},
   "outputs": [],
   "source": []
  },
  {
   "cell_type": "code",
   "execution_count": null,
   "metadata": {},
   "outputs": [],
   "source": []
  },
  {
   "cell_type": "markdown",
   "metadata": {},
   "source": [
    "___\n",
    "## Aperfeiçoamento:\n",
    "\n",
    "Trabalhos que conseguirem pelo menos conceito B vão evoluir em conceito dependendo da quantidade de itens avançados:\n",
    "\n",
    "* IMPLEMENTOU outras limpezas e transformações que não afetem a qualidade da informação contida nos tweets. Ex: stemming, lemmatization, stopwords\n",
    "* CORRIGIU separação de espaços entre palavras e emojis ou entre emojis e emojis\n",
    "* CRIOU categorias intermediárias de relevância baseadas na probabilidade: ex.: muito relevante, relevante, neutro, irrelevante, muito irrelevante. Pelo menos quatro categorias, com adição de mais tweets na base, conforme enunciado. (OBRIGATÓRIO PARA TRIOS, sem contar como item avançado)\n",
    "* EXPLICOU porquê não pode usar o próprio classificador para gerar mais amostras de treinamento\n",
    "* PROPÔS diferentes cenários para Naïve Bayes fora do contexto do projeto\n",
    "* SUGERIU e EXPLICOU melhorias reais com indicações concretas de como implementar (indicar como fazer e indicar material de pesquisa)\n",
    "* FEZ o item 6. Qualidade do Classificador a partir de novas separações dos tweets entre Treinamento e Teste descrito no enunciado do projeto (OBRIGATÓRIO para conceitos A ou A+)"
   ]
  },
  {
   "cell_type": "markdown",
   "metadata": {},
   "source": [
    "___\n",
    "## Referências"
   ]
  },
  {
   "cell_type": "markdown",
   "metadata": {},
   "source": [
    "[Naive Bayes and Text Classification](https://arxiv.org/pdf/1410.5329.pdf)  **Mais completo**\n",
    "\n",
    "[A practical explanation of a Naive Bayes Classifier](https://monkeylearn.com/blog/practical-explanation-naive-bayes-classifier/) **Mais simples**"
   ]
  },
  {
   "cell_type": "code",
   "execution_count": null,
   "metadata": {},
   "outputs": [],
   "source": []
  }
 ],
 "metadata": {
  "kernelspec": {
   "display_name": "Python 3",
   "language": "python",
   "name": "python3"
  },
  "language_info": {
   "codemirror_mode": {
    "name": "ipython",
    "version": 3
   },
   "file_extension": ".py",
   "mimetype": "text/x-python",
   "name": "python",
   "nbconvert_exporter": "python",
   "pygments_lexer": "ipython3",
   "version": "3.8.5"
  }
 },
 "nbformat": 4,
 "nbformat_minor": 4
}
